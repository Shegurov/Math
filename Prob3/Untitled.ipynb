{
 "cells": [
  {
   "cell_type": "markdown",
   "metadata": {},
   "source": [
    "Центральная предельная теорема\n",
    "В этом задании нужно убедиться, что ЦПТ действительно работает"
   ]
  },
  {
   "cell_type": "code",
   "execution_count": 2,
   "metadata": {},
   "outputs": [],
   "source": [
    "import pandas as pd\n",
    "import numpy as np\n",
    "import matplotlib.pyplot as plt\n",
    "import scipy.stats as sts\n",
    "%matplotlib inline"
   ]
  },
  {
   "cell_type": "markdown",
   "metadata": {},
   "source": [
    "Создайте случайную величину из любого выбранного вами распределения, для разных значений n сгенерируйте 1000 выборок размера n и постройте гистрограммы средних этих выборок."
   ]
  },
  {
   "cell_type": "code",
   "execution_count": 10,
   "metadata": {},
   "outputs": [],
   "source": [
    "rv = sts.rayleigh()\n",
    "sample = rv.rvs(size=1000)"
   ]
  },
  {
   "cell_type": "code",
   "execution_count": 11,
   "metadata": {},
   "outputs": [
    {
     "data": {
      "image/png": "[encoded data removed]",
      "text/plain": [
       "<Figure size 432x288 with 1 Axes>"
      ]
     },
     "metadata": {
      "needs_background": "light"
     },
     "output_type": "display_data"
    }
   ],
   "source": [
    "x = np.linspace(0,2,100)\n",
    "pdf = rv.pdf(x)\n",
    "plt.hist(sample, density=True, bins=30, label='sample histogram')\n",
    "plt.plot(x, pdf, label='theoretical pdf', alpha=0.5)\n",
    "plt.legend()\n",
    "plt.ylabel('fraction of samples, $f(x)$')\n",
    "plt.xlabel('$x$')\n",
    "plt.show()"
   ]
  },
  {
   "cell_type": "code",
   "execution_count": 58,
   "metadata": {},
   "outputs": [],
   "source": [
    "#параметры запуска: размеры выборок и количество повторов генерации\n",
    "# YOUR CODE HERE\n",
    "n1 = 2\n",
    "samples_count = 1000\n",
    "#массивы для сохранения средних по выборкам\n",
    "a1 = np.array([])\n",
    "\n",
    "for number in range(samples_count):\n",
    "    # на каждом цикле генерируем выборки разных размеров\n",
    "    sample1 = rv.rvs(size=n1)\n",
    "    # YOUR CODE HERE\n",
    "    # считаем среднее по каждой выборке и добавляем в массив средних\n",
    "    a1 = np.append(a1, sample1.mean())\n",
    "    # YOUR CODE HERE"
   ]
  },
  {
   "cell_type": "code",
   "execution_count": 62,
   "metadata": {},
   "outputs": [],
   "source": [
    "n2 = 10\n",
    "samples_count = 500\n",
    "#массивы для сохранения средних по выборкам\n",
    "a2 = np.array([])\n",
    "\n",
    "for number in range(samples_count):\n",
    "    # на каждом цикле генерируем выборки разных размеров\n",
    "    sample2 = rv.rvs(size=n2)\n",
    "    # YOUR CODE HERE\n",
    "    # считаем среднее по каждой выборке и добавляем в массив средних\n",
    "    a2 = np.append(a2, sample2.mean())\n",
    "    # YOUR CODE HERE"
   ]
  },
  {
   "cell_type": "code",
   "execution_count": 63,
   "metadata": {},
   "outputs": [],
   "source": [
    "n3 = 50\n",
    "samples_count = 10000\n",
    "#массивы для сохранения средних по выборкам\n",
    "a3 = np.array([])\n",
    "\n",
    "for number in range(samples_count):\n",
    "    # на каждом цикле генерируем выборки разных размеров\n",
    "    sample3 = rv.rvs(size=n3)\n",
    "    # YOUR CODE HERE\n",
    "    # считаем среднее по каждой выборке и добавляем в массив средних\n",
    "    a3 = np.append(a3, sample3.mean())\n",
    "    # YOUR CODE HERE"
   ]
  },
  {
   "cell_type": "code",
   "execution_count": 66,
   "metadata": {},
   "outputs": [],
   "source": [
    "n4 = 500\n",
    "samples_count = 1000\n",
    "#массивы для сохранения средних по выборкам\n",
    "a4 = np.array([])\n",
    "\n",
    "for number in range(samples_count):\n",
    "    # на каждом цикле генерируем выборки разных размеров\n",
    "    sample4 = rv.rvs(size=n4)\n",
    "    # YOUR CODE HERE\n",
    "    # считаем среднее по каждой выборке и добавляем в массив средних\n",
    "    a4 = np.append(a4, sample4.mean())\n",
    "    # YOUR CODE HERE"
   ]
  },
  {
   "cell_type": "code",
   "execution_count": 68,
   "metadata": {},
   "outputs": [
    {
     "data": {
      "text/plain": [
       "Text(0.5, 0, '$x$')"
      ]
     },
     "execution_count": 68,
     "metadata": {},
     "output_type": "execute_result"
    },
    {
     "data": {
      "image/png": "[encoded data removed]",
      "text/plain": [
       "<Figure size 432x288 with 1 Axes>"
      ]
     },
     "metadata": {
      "needs_background": "light"
     },
     "output_type": "display_data"
    }
   ],
   "source": [
    "#строим графики\n",
    "#подписи для графиков\n",
    "label_1 = 'sample of ' + str(n1) + ' histogram'\n",
    "plt.hist(a1, density=True, label=label_1)\n",
    "\n",
    "label_2 = 'sample of ' + str(n2) + ' histogram'\n",
    "plt.hist(a2, density=True, label=label_2)\n",
    "\n",
    "\n",
    "label_3 = 'sample of ' + str(n3) + ' histogram'\n",
    "plt.hist(a3, density=True, label=label_3)\n",
    "\n",
    "label_4 = 'sample of ' + str(n4) + ' histogram'\n",
    "plt.hist(a4, density=True, label=label_4)\n",
    "\n",
    "plt.legend()\n",
    "plt.ylabel('samples means')\n",
    "plt.xlabel('$x$')"
   ]
  },
  {
   "cell_type": "code",
   "execution_count": null,
   "metadata": {},
   "outputs": [],
   "source": []
  }
 ],
 "metadata": {
  "kernelspec": {
   "display_name": "Python 3",
   "language": "python",
   "name": "python3"
  },
  "language_info": {
   "codemirror_mode": {
    "name": "ipython",
    "version": 3
   },
   "file_extension": ".py",
   "mimetype": "text/x-python",
   "name": "python",
   "nbconvert_exporter": "python",
   "pygments_lexer": "ipython3",
   "version": "3.8.3"
  }
 },
 "nbformat": 4,
 "nbformat_minor": 4
}
