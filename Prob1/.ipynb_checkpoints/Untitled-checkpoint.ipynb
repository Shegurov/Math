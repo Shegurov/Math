{
 "cells": [
  {
   "cell_type": "markdown",
   "metadata": {},
   "source": [
    "Задание 1\n",
    "Монетку подбрасывают 15 раз, найдите вероятность выпадения простого числа орлов (решение на бумажке и на python).\n"
   ]
  },
  {
   "cell_type": "code",
   "execution_count": 53,
   "metadata": {},
   "outputs": [],
   "source": [
    "import matplotlib.pyplot as plt\n",
    "import numpy as np\n",
    "import random\n",
    "import seaborn\n",
    "import math\n",
    "from numpy.random import choice\n",
    "from scipy.stats import *\n",
    "import statistics\n",
    "\n",
    "%matplotlib inline"
   ]
  },
  {
   "cell_type": "code",
   "execution_count": 12,
   "metadata": {},
   "outputs": [
    {
     "data": {
      "text/plain": [
       "0.3499755859375"
      ]
     },
     "execution_count": 12,
     "metadata": {},
     "output_type": "execute_result"
    }
   ],
   "source": [
    "# P - вероятность того, что при одном подбрасывании монета покажет орла\n",
    "p = 0.5\n",
    "# Воспользуемся формулой Бернулли: \n",
    "p_primes = p ** 15 * ((math.factorial(15) / (math.factorial(2) * math.factorial(13)) * 2 ) +\n",
    "                      (math.factorial(15) / (math.factorial(3) * math.factorial(12))) +\n",
    "                      (math.factorial(15) / (math.factorial(5) * math.factorial(10))) +\n",
    "                      (math.factorial(15) / (math.factorial(7) * math.factorial(8))) +\n",
    "                      (math.factorial(15) / (math.factorial(11) * math.factorial(4))))\n",
    "p_primes                      "
   ]
  },
  {
   "cell_type": "markdown",
   "metadata": {},
   "source": [
    "Задание 2\n",
    "Создайте свою дискретную случайную величину с не менее, чем 10 значениями. Просемплируйте 1000 случайных значений, постройте гистограмму плотности распределения по выборке, посчитайте среднее, дисперсию и медиану."
   ]
  },
  {
   "cell_type": "code",
   "execution_count": 51,
   "metadata": {},
   "outputs": [],
   "source": [
    "elements = [1.0, 2.0, 3.0, 4.0, 5.0, 6.0, 7.0, 8.0, 9.0, 10.0]\n",
    "probabilities = [0.1, 0.08, 0.05, 0.2, 0.2, 0.1, 0.1, 0.1, 0.05, 0.02]\n",
    "values = np.random.choice(elements, 1000, p=probabilities)"
   ]
  },
  {
   "cell_type": "code",
   "execution_count": 52,
   "metadata": {},
   "outputs": [
    {
     "data": {
      "text/plain": [
       "Text(0, 0.5, 'Frequency')"
      ]
     },
     "execution_count": 52,
     "metadata": {},
     "output_type": "execute_result"
    },
    {
     "data": {
      "image/png": "[encoded data removed]",
      "text/plain": [
       "<Figure size 432x288 with 1 Axes>"
      ]
     },
     "metadata": {
      "needs_background": "light"
     },
     "output_type": "display_data"
    }
   ],
   "source": [
    "plt.hist(x=values, color='#0504aa',\n",
    "                            rwidth=0.9)\n",
    "plt.xlabel('Value')\n",
    "plt.ylabel('Frequency')"
   ]
  },
  {
   "cell_type": "code",
   "execution_count": 58,
   "metadata": {},
   "outputs": [
    {
     "name": "stdout",
     "output_type": "stream",
     "text": [
      "4.869 5.319839 5.0\n"
     ]
    }
   ],
   "source": [
    "mean = statistics.mean(values)\n",
    "median = statistics.median(values)\n",
    "variance = statistics.pvariance(values)\n",
    "print(mean, variance,  median)"
   ]
  },
  {
   "cell_type": "markdown",
   "metadata": {},
   "source": [
    "Пусть брошены 3 уравновешенные монеты.\n",
    "Рассмотрим 3 события:\n",
    "A1 - монеты 1 и 2 упали одной и той же стороной,\n",
    "A2 - монеты 2 и 3 упали одной и той же стороной,\n",
    "A3 - монеты 1 и 3 упали одной и той же стороной.\n",
    "Покажите, почему эти 3 события (A1, A2, A3) являются попарно независимыми, но не являются независимыми в совокупности.\n",
    "\n",
    "Это объясняется на лекции"
   ]
  },
  {
   "cell_type": "markdown",
   "metadata": {},
   "source": [
    "Задание 4 (формула полной вероятности)\n",
    "В магазин привезли устройства с 3-х разных предприятий. Соотношение устройств следующее: 20% - продукция первого предприятия, 30% - продукция второго предприятия, 50% - продукция третьего предприятия; далее, 10% продукции первого предприятия высшего сорта, на втором предприятии - 5% и на третьем - 20% продукции высшего сорта. Найти вероятность того, что случайно купленная новая продукция окажется высшего сорта.\n",
    "\n",
    "Решение: \n",
    "умножим попарно вероятность купить продукцию того или иного завода на % продукции высшего сорта на соотв. заводе, и сложим эти вероятности:\n",
    "(0,2 * 0,1) + (0,3 * 0,05) + (0,5 * 0,2) "
   ]
  },
  {
   "cell_type": "code",
   "execution_count": 59,
   "metadata": {},
   "outputs": [
    {
     "data": {
      "text/plain": [
       "0.135"
      ]
     },
     "execution_count": 59,
     "metadata": {},
     "output_type": "execute_result"
    }
   ],
   "source": [
    "p = 0.2 * 0.1 + 0.3 * 0.05 + 0.5 * 0.2\n",
    "p"
   ]
  },
  {
   "cell_type": "code",
   "execution_count": null,
   "metadata": {},
   "outputs": [],
   "source": []
  }
 ],
 "metadata": {
  "kernelspec": {
   "display_name": "Python 3",
   "language": "python",
   "name": "python3"
  },
  "language_info": {
   "codemirror_mode": {
    "name": "ipython",
    "version": 3
   },
   "file_extension": ".py",
   "mimetype": "text/x-python",
   "name": "python",
   "nbconvert_exporter": "python",
   "pygments_lexer": "ipython3",
   "version": "3.8.3"
  }
 },
 "nbformat": 4,
 "nbformat_minor": 4
}
