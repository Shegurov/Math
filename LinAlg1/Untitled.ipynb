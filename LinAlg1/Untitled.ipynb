{
 "cells": [
  {
   "cell_type": "code",
   "execution_count": 69,
   "metadata": {},
   "outputs": [],
   "source": [
    "import pandas as pd\n",
    "import numpy as np\n",
    "import matplotlib.pyplot as plt\n",
    "import math"
   ]
  },
  {
   "cell_type": "markdown",
   "metadata": {},
   "source": [
    "Уровень 0:\n",
    "Даны вектора x=(1,1), y=(2, 0) и z =(0,2)\n",
    "Надо:\n",
    "Изобразить вектора на экране\n",
    "Изобразить точку x + y + z\n",
    "Найти угол между векторами x и y"
   ]
  },
  {
   "cell_type": "code",
   "execution_count": 65,
   "metadata": {},
   "outputs": [
    {
     "data": {
      "image/png": "[encoded data removed]",
      "text/plain": [
       "<Figure size 432x288 with 1 Axes>"
      ]
     },
     "metadata": {
      "needs_background": "light"
     },
     "output_type": "display_data"
    },
    {
     "data": {
      "text/plain": [
       "45.00000000000001"
      ]
     },
     "execution_count": 65,
     "metadata": {},
     "output_type": "execute_result"
    }
   ],
   "source": [
    "x = np.array([1,1])\n",
    "y = np.array([2,0])\n",
    "z = np.array([0,2])\n",
    "v = np.array([x,y,z])\n",
    "origin = [0], [0]\n",
    "plt.quiver(*origin, v[:,0], v[:,1], color=['r','b','g'], angles='xy', scale_units='xy', scale=1)\n",
    "plt.xlim(-2, 4)\n",
    "plt.ylim(-2, 4)\n",
    "vsum = np.sum([x,y,z], axis=0)\n",
    "plt.scatter(vsum[0], vsum[1])\n",
    "plt.show()\n",
    "angle = math.degrees(math.acos((np.dot(x, y) / (np.linalg.norm(x) * np.linalg.norm(y)))))\n",
    "angle"
   ]
  },
  {
   "cell_type": "markdown",
   "metadata": {},
   "source": [
    "Даны дома из Бостона\n",
    "Выбрать любые n домов, образующих базис в пространстве признаков дома (все колонки, кроме medv)\n",
    "Написать код разложения дома по указанному базису"
   ]
  },
  {
   "cell_type": "code",
   "execution_count": 105,
   "metadata": {},
   "outputs": [
    {
     "data": {
      "text/plain": [
       "array([  32.69647078,   -4.98047449,  -18.42492642,  356.81869334,\n",
       "       1191.37489937,  792.18886771,  -14.22612522, -256.90291425,\n",
       "        163.56474497,  -11.44548382,  -80.08355108,    1.22917823,\n",
       "         50.40859737])"
      ]
     },
     "execution_count": 105,
     "metadata": {},
     "output_type": "execute_result"
    }
   ],
   "source": [
    "def decompose(array, v):\n",
    "    return np.linalg.solve(array, v)\n",
    "\n",
    "house_df = pd.read_csv('boston_data.csv')\n",
    "house_df = house_df.drop('medv', axis=1)\n",
    "house_df = house_df[0:13]\n",
    "array = house_df.values\n",
    "#Если детерминант матрицы не равен нулю, значит имеем базис\n",
    "np.linalg.det(array)\n",
    "# Решаем СЛУ, решение и является разложением вектора по базису\n",
    "decompose(array, house_df.iloc[0])\n"
   ]
  },
  {
   "cell_type": "code",
   "execution_count": 107,
   "metadata": {},
   "outputs": [
    {
     "name": "stdout",
     "output_type": "stream",
     "text": [
      "[[1, 0, 0], [0, 1, 0], [0, 0, 1]]\n"
     ]
    },
    {
     "data": {
      "text/plain": [
       "array([ 5., 10., 20.])"
      ]
     },
     "execution_count": 107,
     "metadata": {},
     "output_type": "execute_result"
    }
   ],
   "source": [
    "a = [[1,0,0],\n",
    "    [0,1,0],\n",
    "    [0,0,1]]\n",
    "print(a)\n",
    "decompose(a, [5,10,20])"
   ]
  },
  {
   "cell_type": "code",
   "execution_count": null,
   "metadata": {},
   "outputs": [],
   "source": []
  }
 ],
 "metadata": {
  "kernelspec": {
   "display_name": "Python 3",
   "language": "python",
   "name": "python3"
  },
  "language_info": {
   "codemirror_mode": {
    "name": "ipython",
    "version": 3
   },
   "file_extension": ".py",
   "mimetype": "text/x-python",
   "name": "python",
   "nbconvert_exporter": "python",
   "pygments_lexer": "ipython3",
   "version": "3.7.6"
  }
 },
 "nbformat": 4,
 "nbformat_minor": 4
}
