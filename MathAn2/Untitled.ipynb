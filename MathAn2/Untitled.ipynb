{
 "cells": [
  {
   "cell_type": "code",
   "execution_count": 13,
   "metadata": {},
   "outputs": [],
   "source": [
    "import numpy as np\n",
    "from scipy.optimize import approx_fprime\n",
    "from scipy.optimize import minimize"
   ]
  },
  {
   "cell_type": "markdown",
   "metadata": {},
   "source": [
    "Задание 1:¶\n",
    "Посчитайте частные производные функций (как обычно, необходимо решение на бумажке или в LaTeX и на scipy):\n",
    "\n",
    "1) $f(x,y)=2x^2y^3 + 1/x + y^2x + 7$, а для этой функции также градиент в точке $(1,2)$\n",
    "\n",
    "2) $f(x,y)=x^2y - sin(xy) + cos(x^2) + 6y$"
   ]
  },
  {
   "cell_type": "code",
   "execution_count": 5,
   "metadata": {},
   "outputs": [
    {
     "data": {
      "text/plain": [
       "array([35.00000024, 28.00000024])"
      ]
     },
     "execution_count": 5,
     "metadata": {},
     "output_type": "execute_result"
    }
   ],
   "source": [
    "def func1(x):\n",
    "    return 2 * x[0]**2 * x[1]**3 + 1 / x[0] + x[1]**2 * x[0] + 7\n",
    "\n",
    "x = np.array([1 , 2])\n",
    "eps = np.sqrt(np.finfo(float).eps)\n",
    "approx_fprime(x, func1, [eps, eps])"
   ]
  },
  {
   "cell_type": "markdown",
   "metadata": {},
   "source": [
    "Градиентный спуск своими руками"
   ]
  },
  {
   "cell_type": "code",
   "execution_count": 14,
   "metadata": {},
   "outputs": [
    {
     "name": "stdout",
     "output_type": "stream",
     "text": [
      "Минимум достигается в:  [1.29197811e-08 3.32901401e-08]\n",
      "Значение функции в минимуме:  1.2751541739575584e-15\n",
      "Optimization terminated successfully.\n",
      "         Current function value: 0.000000\n",
      "         Iterations: 85\n",
      "         Function evaluations: 164\n"
     ]
    }
   ],
   "source": [
    "def f(x):\n",
    "    return (x[0]**2) + (x[1]**2)\n",
    "                        \n",
    "x = np.array([100, 200])\n",
    "learning_rate = 0.1\n",
    "                        \n",
    "for i in range(100):\n",
    "    # Calculate gradient\n",
    "    eps = np.sqrt(np.finfo(float).eps)\n",
    "    grad = approx_fprime(x, f, [eps, eps])\n",
    "    # Update x with gradient\n",
    "    x = x - grad * learning_rate\n",
    "print(\"Минимум достигается в: \", x)\n",
    "print(\"Значение функции в минимуме: \", f(x))\n",
    "# Проверка с помощью встроенной функции numpy:\n",
    "# Не нашёл встроенной в нампай функции, сделал через сайпай:\n",
    "x = np.array([100, 200])\n",
    "res = minimize(f, x, method='nelder-mead', options={'xtol': 1e-8, 'disp': True})"
   ]
  },
  {
   "cell_type": "code",
   "execution_count": null,
   "metadata": {},
   "outputs": [],
   "source": []
  },
  {
   "cell_type": "code",
   "execution_count": null,
   "metadata": {},
   "outputs": [],
   "source": []
  }
 ],
 "metadata": {
  "kernelspec": {
   "display_name": "Python 3",
   "language": "python",
   "name": "python3"
  },
  "language_info": {
   "codemirror_mode": {
    "name": "ipython",
    "version": 3
   },
   "file_extension": ".py",
   "mimetype": "text/x-python",
   "name": "python",
   "nbconvert_exporter": "python",
   "pygments_lexer": "ipython3",
   "version": "3.8.3"
  }
 },
 "nbformat": 4,
 "nbformat_minor": 4
}
