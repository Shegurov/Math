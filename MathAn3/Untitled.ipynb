{
 "cells": [
  {
   "cell_type": "code",
   "execution_count": 1,
   "metadata": {},
   "outputs": [],
   "source": [
    "import numpy as np\n",
    "import matplotlib.pyplot as plt\n",
    "\n",
    "from scipy.optimize import dual_annealing\n",
    "from scipy.optimize import differential_evolution\n",
    "from scipy.optimize import basinhopping"
   ]
  },
  {
   "cell_type": "markdown",
   "metadata": {},
   "source": [
    "При фиксированном seed=42 поразбирайтесь и поэкспериментируйте с параметрами алгоритма дифференциальной эволюции: strategy, popsize, tol, mutation, recombination и updating.\n",
    "\n",
    "Постройте графики количества итераций оптимизации функции ackley от значения параметра."
   ]
  },
  {
   "cell_type": "code",
   "execution_count": 34,
   "metadata": {},
   "outputs": [
    {
     "data": {
      "text/plain": [
       "     fun: 4.440892098500626e-16\n",
       " message: 'Optimization terminated successfully.'\n",
       "    nfev: 2793\n",
       "     nit: 90\n",
       " success: True\n",
       "       x: array([0., 0.])"
      ]
     },
     "execution_count": 34,
     "metadata": {},
     "output_type": "execute_result"
    }
   ],
   "source": [
    "\n",
    "def ackley(x):\n",
    "    arg1 = -0.2 * np.sqrt(0.5 * (x[0] ** 2 + x[1] ** 2))\n",
    "    arg2 = 0.5 * (np.cos(2. * np.pi * x[0]) + np.cos(2. * np.pi * x[1]))\n",
    "    return -20. * np.exp(arg1) - np.exp(arg2) + 20. + np.e\n",
    "\n",
    "bounds = [(-10, 10), (-10, 10)]\n",
    "result = differential_evolution(ackley, bounds, seed=42)\n",
    "result"
   ]
  },
  {
   "cell_type": "code",
   "execution_count": 35,
   "metadata": {},
   "outputs": [
    {
     "data": {
      "text/plain": [
       "     fun: 4.440892098500626e-16\n",
       " message: 'Optimization terminated successfully.'\n",
       "    nfev: 7473\n",
       "     nit: 246\n",
       " success: True\n",
       "       x: array([0., 0.])"
      ]
     },
     "execution_count": 35,
     "metadata": {},
     "output_type": "execute_result"
    }
   ],
   "source": [
    "# Попробуем разные стратегии:\n",
    "result = differential_evolution(ackley, bounds, strategy='rand1exp', seed=42)\n",
    "result"
   ]
  },
  {
   "cell_type": "code",
   "execution_count": 36,
   "metadata": {},
   "outputs": [
    {
     "data": {
      "text/plain": [
       "     fun: 4.440892098500626e-16\n",
       " message: 'Maximum number of iterations has been exceeded.'\n",
       "    nfev: 30093\n",
       "     nit: 1000\n",
       " success: False\n",
       "       x: array([0., 0.])"
      ]
     },
     "execution_count": 36,
     "metadata": {},
     "output_type": "execute_result"
    }
   ],
   "source": [
    "# Попробуем разные стратегии:\n",
    "result = differential_evolution(ackley, bounds, strategy='currenttobest1bin', seed=42)\n",
    "result"
   ]
  },
  {
   "cell_type": "code",
   "execution_count": 37,
   "metadata": {},
   "outputs": [
    {
     "data": {
      "text/plain": [
       "     fun: 4.440892098500626e-16\n",
       " message: 'Optimization terminated successfully.'\n",
       "    nfev: 5073\n",
       "     nit: 166\n",
       " success: True\n",
       "       x: array([0., 0.])"
      ]
     },
     "execution_count": 37,
     "metadata": {},
     "output_type": "execute_result"
    }
   ],
   "source": [
    "# Попробуем разные стратегии:\n",
    "result = differential_evolution(ackley, bounds, strategy='best2bin', seed=42)\n",
    "result"
   ]
  },
  {
   "cell_type": "code",
   "execution_count": 25,
   "metadata": {},
   "outputs": [
    {
     "data": {
      "image/png": "[encoded data removed]",
      "text/plain": [
       "<Figure size 432x288 with 1 Axes>"
      ]
     },
     "metadata": {
      "needs_background": "light"
     },
     "output_type": "display_data"
    },
    {
     "name": "stdout",
     "output_type": "stream",
     "text": [
      "Wall time: 5.25 s\n"
     ]
    }
   ],
   "source": [
    "%%time\n",
    "# Поиграем с размером популяции:\n",
    "# Т.К. В задании не указано, от какого параметра строить график, постороим его отсюда:\n",
    "result_dict = {}\n",
    "for i in range(1, 30):\n",
    "    result = differential_evolution(ackley, bounds, popsize=i, seed=42)\n",
    "    result_dict[i] = result.nit\n",
    "plt.plot(list(result_dict.keys()), list(result_dict.values()))\n",
    "plt.show()"
   ]
  },
  {
   "cell_type": "code",
   "execution_count": 39,
   "metadata": {},
   "outputs": [
    {
     "data": {
      "text/plain": [
       "     fun: 4.440892098500626e-16\n",
       " message: 'Optimization terminated successfully.'\n",
       "    nfev: 391463\n",
       "     nit: 102\n",
       " success: True\n",
       "       x: array([0., 0.])"
      ]
     },
     "execution_count": 39,
     "metadata": {},
     "output_type": "execute_result"
    }
   ],
   "source": [
    "# Поиграем с размером популяции:\n",
    "result = differential_evolution(ackley, bounds, popsize=1900, seed=42)\n",
    "result"
   ]
  },
  {
   "cell_type": "code",
   "execution_count": 40,
   "metadata": {},
   "outputs": [
    {
     "data": {
      "text/plain": [
       "     fun: 4.440892098500626e-16\n",
       " message: 'Optimization terminated successfully.'\n",
       "    nfev: 1503\n",
       "     nit: 47\n",
       " success: True\n",
       "       x: array([0., 0.])"
      ]
     },
     "execution_count": 40,
     "metadata": {},
     "output_type": "execute_result"
    }
   ],
   "source": [
    "# Поиграем с мутацией:\n",
    "result = differential_evolution(ackley, bounds, mutation = 0.4, seed=42)\n",
    "result"
   ]
  },
  {
   "cell_type": "code",
   "execution_count": 41,
   "metadata": {},
   "outputs": [
    {
     "data": {
      "text/plain": [
       "     fun: 1.587615816589505e-09\n",
       "     jac: array([-2.69295484,  2.82735471])\n",
       " message: 'Optimization terminated successfully.'\n",
       "    nfev: 7452\n",
       "     nit: 246\n",
       " success: True\n",
       "       x: array([-6.69241775e-11,  5.57302547e-10])"
      ]
     },
     "execution_count": 41,
     "metadata": {},
     "output_type": "execute_result"
    }
   ],
   "source": [
    "# Поиграем с мутацией:\n",
    "result = differential_evolution(ackley, bounds, mutation = 1.9, seed=42)\n",
    "result"
   ]
  },
  {
   "cell_type": "code",
   "execution_count": 51,
   "metadata": {},
   "outputs": [
    {
     "data": {
      "text/plain": [
       "     fun: 4.440892098500626e-16\n",
       " message: 'Optimization terminated successfully.'\n",
       "    nfev: 933\n",
       "     nit: 28\n",
       " success: True\n",
       "       x: array([0., 0.])"
      ]
     },
     "execution_count": 51,
     "metadata": {},
     "output_type": "execute_result"
    }
   ],
   "source": [
    "# Поиграем с мутацией:\n",
    "result = differential_evolution(ackley, bounds, mutation = 0.2, seed=42)\n",
    "result"
   ]
  },
  {
   "cell_type": "code",
   "execution_count": 43,
   "metadata": {},
   "outputs": [
    {
     "data": {
      "text/plain": [
       "     fun: 4.440892098500626e-16\n",
       " message: 'Optimization terminated successfully.'\n",
       "    nfev: 2553\n",
       "     nit: 82\n",
       " success: True\n",
       "       x: array([0., 0.])"
      ]
     },
     "execution_count": 43,
     "metadata": {},
     "output_type": "execute_result"
    }
   ],
   "source": [
    "# Поиграем с recombination:\n",
    "result = differential_evolution(ackley, bounds, recombination=1.0, seed=42)\n",
    "result"
   ]
  },
  {
   "cell_type": "code",
   "execution_count": 44,
   "metadata": {},
   "outputs": [
    {
     "data": {
      "text/plain": [
       "     fun: 4.440892098500626e-16\n",
       " message: 'Optimization terminated successfully.'\n",
       "    nfev: 3303\n",
       "     nit: 107\n",
       " success: True\n",
       "       x: array([0., 0.])"
      ]
     },
     "execution_count": 44,
     "metadata": {},
     "output_type": "execute_result"
    }
   ],
   "source": [
    "# Поиграем с recombination:\n",
    "result = differential_evolution(ackley, bounds, recombination=0.5, seed=42)\n",
    "result"
   ]
  },
  {
   "cell_type": "markdown",
   "metadata": {},
   "source": [
    "Допзадание\n",
    "Найти множество параметров (strategy=..., ..., updating=...), которые требуют минимального количества итераций."
   ]
  },
  {
   "cell_type": "code",
   "execution_count": 52,
   "metadata": {},
   "outputs": [
    {
     "name": "stdout",
     "output_type": "stream",
     "text": [
      "Wall time: 1min 29s\n"
     ]
    },
    {
     "data": {
      "text/plain": [
       "     fun: 3.0\n",
       " message: 'Optimization terminated successfully.'\n",
       "    nfev: 1714\n",
       "     nit: 37\n",
       " success: True\n",
       "       x: array([3.32869322, 0.93893452, 0.24935796])"
      ]
     },
     "execution_count": 52,
     "metadata": {},
     "output_type": "execute_result"
    }
   ],
   "source": [
    "%%time\n",
    "# Определим целевую функцию. Её аргумент - это массив параметров оптимизируемой функции:\n",
    "# размер популяции, значение recombination и мутации\n",
    "# Можно и больше параметров, но даже с 3 система решает задачу 1,5 минуты\n",
    "def opt_args(x):\n",
    "    bounds = [(-10, 10), (-10, 10)]\n",
    "    res = differential_evolution(ackley, bounds, recombination=x[1], seed=42, popsize=int(x[0]), mutation=x[2])\n",
    "    if (res.success):\n",
    "        return res.nit\n",
    "    else:\n",
    "        return 9999.0\n",
    "    \n",
    "bounds = [(3, 30), (0.0, 1.0), (0.2, 2.0)]\n",
    "result = differential_evolution(opt_args, bounds, seed=42)\n",
    "# Вектор x - это и есть оптимальный набор наших параметров\n",
    "result"
   ]
  },
  {
   "cell_type": "code",
   "execution_count": 53,
   "metadata": {},
   "outputs": [
    {
     "data": {
      "text/plain": [
       "     fun: 5.381864187490191\n",
       "     jac: array([3.55271366e-07, 0.00000000e+00])\n",
       " message: 'Optimization terminated successfully.'\n",
       "    nfev: 45\n",
       "     nit: 3\n",
       " success: True\n",
       "       x: array([0.98241604, 1.96461666])"
      ]
     },
     "execution_count": 53,
     "metadata": {},
     "output_type": "execute_result"
    }
   ],
   "source": [
    "# Сделаем проверку\n",
    "bounds = [(-10, 10), (-10, 10)]\n",
    "check = differential_evolution(ackley, bounds, recombination=result.x[1], seed=42, popsize=int(result.x[0]), mutation=result.x[2])\n",
    "check"
   ]
  },
  {
   "cell_type": "markdown",
   "metadata": {},
   "source": [
    "Вроде бы функция отработала успешно, но мы попали в достаточно большое значение функция. Функция мутации работает не оптимально? :)) "
   ]
  }
 ],
 "metadata": {
  "kernelspec": {
   "display_name": "Python 3",
   "language": "python",
   "name": "python3"
  },
  "language_info": {
   "codemirror_mode": {
    "name": "ipython",
    "version": 3
   },
   "file_extension": ".py",
   "mimetype": "text/x-python",
   "name": "python",
   "nbconvert_exporter": "python",
   "pygments_lexer": "ipython3",
   "version": "3.8.3"
  }
 },
 "nbformat": 4,
 "nbformat_minor": 4
}
